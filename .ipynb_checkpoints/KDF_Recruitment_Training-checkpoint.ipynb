{
 "cells": [
  {
   "cell_type": "markdown",
   "id": "7458869d",
   "metadata": {},
   "source": [
    "# **AI-Powered KDF Recruitment Shortlisting System**\n",
    "This Jupyter Notebook automates candidate shortlisting for KDF recruitment, using machine learning to ensure fairness and efficiency.\n",
    "\n",
    "**Steps in this notebook:**\n",
    "1. Load recruitment data\n",
    "2. Train an AI model for candidate selection\n",
    "3. Save the trained model for predictions\n"
   ]
  },
  {
   "cell_type": "code",
   "execution_count": null,
   "id": "f2ec778f",
   "metadata": {},
   "outputs": [],
   "source": [
    "\n",
    "import pandas as pd\n",
    "import numpy as np\n",
    "import joblib\n",
    "from sklearn.model_selection import train_test_split\n",
    "from sklearn.ensemble import RandomForestClassifier\n",
    "from sklearn.metrics import accuracy_score, classification_report\n",
    "import os\n",
    "\n",
    "# Define file path\n",
    "data_path = r\"C:\\Users\\user\\Downloads\\Kdf Reccuitment\\recruitment_data.csv\"\n"
   ]
  },
  {
   "cell_type": "code",
   "execution_count": null,
   "id": "605120ce",
   "metadata": {},
   "outputs": [],
   "source": [
    "\n",
    "# Load recruitment dataset\n",
    "if os.path.exists(data_path):\n",
    "    df = pd.read_csv(data_path)\n",
    "    df.dropna(inplace=True)\n",
    "    print(\"Recruitment data loaded successfully.\")\n",
    "else:\n",
    "    print(f\"Error: File not found at {data_path}. Please check the path.\")\n",
    "    exit()\n"
   ]
  },
  {
   "cell_type": "code",
   "execution_count": null,
   "id": "753f9c24",
   "metadata": {},
   "outputs": [],
   "source": [
    "\n",
    "# Check required columns\n",
    "required_columns = ['age', 'physical_fitness_score', 'height', 'weight', 'experience_years', 'selected']\n",
    "missing_columns = [col for col in required_columns if col not in df.columns]\n",
    "if missing_columns:\n",
    "    print(f\"Error: Missing columns: {missing_columns}\")\n",
    "    exit()\n"
   ]
  },
  {
   "cell_type": "code",
   "execution_count": null,
   "id": "3729feb1",
   "metadata": {},
   "outputs": [],
   "source": [
    "\n",
    "# Train AI Model\n",
    "X = df[['age', 'physical_fitness_score', 'height', 'weight', 'experience_years']]\n",
    "y = df['selected']\n",
    "\n",
    "X_train, X_test, y_train, y_test = train_test_split(X, y, test_size=0.2, random_state=42)\n",
    "\n",
    "model = RandomForestClassifier(n_estimators=100, random_state=42)\n",
    "model.fit(X_train, y_train)\n",
    "\n",
    "# Model evaluation\n",
    "y_pred = model.predict(X_test)\n",
    "print(\"Model Accuracy:\", accuracy_score(y_test, y_pred))\n",
    "print(\"Classification Report:\\n\", classification_report(y_test, y_pred))\n"
   ]
  },
  {
   "cell_type": "code",
   "execution_count": null,
   "id": "2ed54bc7",
   "metadata": {},
   "outputs": [],
   "source": [
    "\n",
    "# Save the trained model\n",
    "joblib.dump(model, \"recruitment_model.pkl\")\n",
    "print(\"Model saved successfully as recruitment_model.pkl\")\n"
   ]
  }
 ],
 "metadata": {},
 "nbformat": 4,
 "nbformat_minor": 5
}
