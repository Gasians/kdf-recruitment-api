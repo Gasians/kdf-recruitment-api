{
 "cells": [
  {
   "cell_type": "code",
   "execution_count": 31,
   "id": "771b23c6-0e56-4abe-ae60-65490fbe62e1",
   "metadata": {},
   "outputs": [],
   "source": [
    "import pandas as pd"
   ]
  },
  {
   "cell_type": "code",
   "execution_count": 32,
   "id": "2a677982-7ed2-4f67-8c1f-2fc36123908e",
   "metadata": {},
   "outputs": [],
   "source": [
    "# Create sample candidate data\n",
    "data = [\n",
    "    [\"John Doe\", 23, \"B\", 85, 1.65, 55, 2, 1],\n",
    "    [\"Jane Doe\", 25, \"C+\", 80, 1.58, 50, 3, 1],\n",
    "    [\"Peter Kip\", 22, \"D\", 75, 1.70, 60, 1, 0],\n",
    "    [\"Mary Wanjiku\", 27, \"B\", 90, 1.60, 52, 4, 1],\n",
    "    [\"Ali Mohamed\", 24, \"C\", 78, 1.55, 54, 2, 0]\n",
    "]"
   ]
  },
  {
   "cell_type": "code",
   "execution_count": 33,
   "id": "ba0ae92f-739c-4f01-88c4-c2d3c01b0ff4",
   "metadata": {},
   "outputs": [],
   "source": [
    "columns = [\"name\", \"age\", \"education_level\", \"physical_fitness_score\", \"height\", \"weight\", \"experience_years\", \"selected\"]"
   ]
  },
  {
   "cell_type": "code",
   "execution_count": 34,
   "id": "b38766bd-4841-4528-bd49-90a18f500fc6",
   "metadata": {},
   "outputs": [],
   "source": [
    "# Save to CSV\n",
    "df = pd.DataFrame(data, columns=columns)\n",
    "df.to_csv(\"recruitment_data.csv\", index=False)"
   ]
  },
  {
   "cell_type": "code",
   "execution_count": 35,
   "id": "ad14e454-761f-46a4-aa6d-053252d6e521",
   "metadata": {},
   "outputs": [
    {
     "name": "stdout",
     "output_type": "stream",
     "text": [
      "Sample recruitment data saved successfully!\n"
     ]
    }
   ],
   "source": [
    "print(\"Sample recruitment data saved successfully!\")"
   ]
  },
  {
   "cell_type": "code",
   "execution_count": null,
   "id": "cca51749-f9b3-42b9-a3ea-bdb1e83bb2b7",
   "metadata": {},
   "outputs": [],
   "source": []
  }
 ],
 "metadata": {
  "kernelspec": {
   "display_name": "Python 3 (ipykernel)",
   "language": "python",
   "name": "python3"
  },
  "language_info": {
   "codemirror_mode": {
    "name": "ipython",
    "version": 3
   },
   "file_extension": ".py",
   "mimetype": "text/x-python",
   "name": "python",
   "nbconvert_exporter": "python",
   "pygments_lexer": "ipython3",
   "version": "3.12.7"
  }
 },
 "nbformat": 4,
 "nbformat_minor": 5
}
