{
 "cells": [
  {
   "cell_type": "code",
   "execution_count": 1,
   "id": "56d80fa4-aee5-46fc-845a-8954f0dbeb8d",
   "metadata": {},
   "outputs": [],
   "source": [
    "import pandas as pd"
   ]
  },
  {
   "cell_type": "code",
   "execution_count": 2,
   "id": "4de98151-822f-433a-adbf-ad56bfec6997",
   "metadata": {},
   "outputs": [],
   "source": [
    "# Define recruitment eligibility criteria as a structured dataset\n",
    "data = [\n",
    "    {\"Category\": \"GSO Cadets\", \"Min_Age\": 18, \"Max_Age\": 26, \"Min_Grade\": \"B\", \"Physical_Fitness\": \"Required\", \"Min_Height_Men\": 1.60, \"Min_Height_Women\": 1.52, \"Min_Weight_Men\": 54.55, \"Min_Weight_Women\": 50.00},\n",
    "    {\"Category\": \"GSO Cadets (Degree Holders)\", \"Min_Age\": 18, \"Max_Age\": 26, \"Min_Grade\": \"B\", \"Physical_Fitness\": \"Required\", \"Min_Height_Men\": 1.60, \"Min_Height_Women\": 1.52, \"Min_Weight_Men\": 54.55, \"Min_Weight_Women\": 50.00},\n",
    "    {\"Category\": \"Specialist Officers\", \"Min_Age\": 18, \"Max_Age\": 30, \"Min_Grade\": \"C+\", \"Physical_Fitness\": \"Required\", \"Min_Height_Men\": 1.60, \"Min_Height_Women\": 1.52, \"Min_Weight_Men\": 54.55, \"Min_Weight_Women\": 50.00},\n",
    "    {\"Category\": \"General Duty Recruits\", \"Min_Age\": 18, \"Max_Age\": 26, \"Min_Grade\": \"D\", \"Physical_Fitness\": \"Required\", \"Min_Height_Men\": 1.60, \"Min_Height_Women\": 1.52, \"Min_Weight_Men\": 54.55, \"Min_Weight_Women\": 50.00},\n",
    "    {\"Category\": \"Tradesmen/Women (Diploma)\", \"Min_Age\": 18, \"Max_Age\": 30, \"Min_Grade\": \"C\", \"Physical_Fitness\": \"Required\", \"Min_Height_Men\": 1.60, \"Min_Height_Women\": 1.52, \"Min_Weight_Men\": 54.55, \"Min_Weight_Women\": 50.00},\n",
    "    {\"Category\": \"Tradesmen/Women (Certificate)\", \"Min_Age\": 18, \"Max_Age\": 30, \"Min_Grade\": \"D+\", \"Physical_Fitness\": \"Required\", \"Min_Height_Men\": 1.60, \"Min_Height_Women\": 1.52, \"Min_Weight_Men\": 54.55, \"Min_Weight_Women\": 50.00},\n",
    "    {\"Category\": \"Constables\", \"Min_Age\": 30, \"Max_Age\": 55, \"Min_Grade\": \"N/A\", \"Physical_Fitness\": \"Required\", \"Min_Height_Men\": 1.60, \"Min_Height_Women\": 1.52, \"Min_Weight_Men\": 54.55, \"Min_Weight_Women\": 50.00}\n",
    "]"
   ]
  },
  {
   "cell_type": "code",
   "execution_count": 3,
   "id": "79048b15-3ba2-4213-a140-54b3bf02ddb5",
   "metadata": {},
   "outputs": [],
   "source": [
    "# Create DataFrame\n",
    "df = pd.DataFrame(data)"
   ]
  },
  {
   "cell_type": "code",
   "execution_count": 4,
   "id": "f3b8b4f8-0ea4-41fe-8922-6e99292ae61f",
   "metadata": {},
   "outputs": [],
   "source": [
    "# Save to CSV\n",
    "df.to_csv(\"kdf_recruitment_criteria.csv\", index=False)"
   ]
  },
  {
   "cell_type": "code",
   "execution_count": 5,
   "id": "426fe84f-9e59-4be9-aa26-b23c873e35f7",
   "metadata": {},
   "outputs": [
    {
     "name": "stdout",
     "output_type": "stream",
     "text": [
      "                        Category  Min_Age  Max_Age Min_Grade Physical_Fitness  \\\n",
      "0                     GSO Cadets       18       26         B         Required   \n",
      "1    GSO Cadets (Degree Holders)       18       26         B         Required   \n",
      "2            Specialist Officers       18       30        C+         Required   \n",
      "3          General Duty Recruits       18       26         D         Required   \n",
      "4      Tradesmen/Women (Diploma)       18       30         C         Required   \n",
      "5  Tradesmen/Women (Certificate)       18       30        D+         Required   \n",
      "6                     Constables       30       55       N/A         Required   \n",
      "\n",
      "   Min_Height_Men  Min_Height_Women  Min_Weight_Men  Min_Weight_Women  \n",
      "0             1.6              1.52           54.55              50.0  \n",
      "1             1.6              1.52           54.55              50.0  \n",
      "2             1.6              1.52           54.55              50.0  \n",
      "3             1.6              1.52           54.55              50.0  \n",
      "4             1.6              1.52           54.55              50.0  \n",
      "5             1.6              1.52           54.55              50.0  \n",
      "6             1.6              1.52           54.55              50.0  \n"
     ]
    }
   ],
   "source": [
    "# Display the dataset\n",
    "print(df)"
   ]
  },
  {
   "cell_type": "code",
   "execution_count": null,
   "id": "2de44bd3-1e4d-4c16-8df7-d9d1b1b2c2f6",
   "metadata": {},
   "outputs": [],
   "source": []
  }
 ],
 "metadata": {
  "kernelspec": {
   "display_name": "Python 3 (ipykernel)",
   "language": "python",
   "name": "python3"
  },
  "language_info": {
   "codemirror_mode": {
    "name": "ipython",
    "version": 3
   },
   "file_extension": ".py",
   "mimetype": "text/x-python",
   "name": "python",
   "nbconvert_exporter": "python",
   "pygments_lexer": "ipython3",
   "version": "3.12.7"
  }
 },
 "nbformat": 4,
 "nbformat_minor": 5
}
